{
 "cells": [
  {
   "cell_type": "code",
   "execution_count": null,
   "metadata": {},
   "outputs": [],
   "source": [
    "# Classes\n",
    "# Object-oriented programming is one of the most effective approaches to writing software.\n",
    "# In object-oriented programming you write classes that represent real-world things and situations,... \n",
    "# .....and you create objects based on these classes."
   ]
  },
  {
   "cell_type": "code",
   "execution_count": 1,
   "metadata": {},
   "outputs": [],
   "source": [
    "# creating a class\n",
    "# keep the first letter of class name in capital only.\n",
    "class Dog:\n",
    "    def __init__(self,name,age):\n",
    "        self.name = name\n",
    "        self.age = age\n",
    "    def sit(self):\n",
    "        print(self.name + ' is now sitting')\n",
    "    def roll_over(self):\n",
    "        print(self.name + ' rolled over !')"
   ]
  },
  {
   "cell_type": "code",
   "execution_count": 2,
   "metadata": {},
   "outputs": [],
   "source": [
    "# making an instance for a class\n",
    "my_dog = Dog('shiro',3)"
   ]
  },
  {
   "cell_type": "code",
   "execution_count": 3,
   "metadata": {},
   "outputs": [
    {
     "name": "stdout",
     "output_type": "stream",
     "text": [
      "my dog name is shiro\n",
      "The age of my dog is 3 years\n"
     ]
    }
   ],
   "source": [
    "# Accessing attributes\n",
    "print('my dog name is ' + my_dog.name)\n",
    "print('The age of my dog is ' + str(my_dog.age) + ' years')"
   ]
  },
  {
   "cell_type": "code",
   "execution_count": 4,
   "metadata": {},
   "outputs": [
    {
     "name": "stdout",
     "output_type": "stream",
     "text": [
      "shiro is now sitting\n",
      "shiro rolled over !\n"
     ]
    }
   ],
   "source": [
    "# calling method\n",
    "my_dog.sit()\n",
    "my_dog.roll_over()"
   ]
  },
  {
   "cell_type": "code",
   "execution_count": null,
   "metadata": {},
   "outputs": [],
   "source": [
    "# another example using same class"
   ]
  },
  {
   "cell_type": "code",
   "execution_count": 5,
   "metadata": {},
   "outputs": [],
   "source": [
    "# adding this new instance in above class only.\n",
    "new_dog = Dog('Bruno',2)"
   ]
  },
  {
   "cell_type": "code",
   "execution_count": 6,
   "metadata": {},
   "outputs": [
    {
     "name": "stdout",
     "output_type": "stream",
     "text": [
      "The name of the new dog is Bruno\n"
     ]
    }
   ],
   "source": [
    "# printing its name\n",
    "print('The name of the new dog is ' + new_dog.name)"
   ]
  },
  {
   "cell_type": "code",
   "execution_count": 7,
   "metadata": {},
   "outputs": [
    {
     "name": "stdout",
     "output_type": "stream",
     "text": [
      "Bruno is 2 years old\n"
     ]
    }
   ],
   "source": [
    "# printing its age\n",
    "print(new_dog.name + ' is ' + str(new_dog.age) + ' years old')"
   ]
  },
  {
   "cell_type": "code",
   "execution_count": 8,
   "metadata": {},
   "outputs": [
    {
     "name": "stdout",
     "output_type": "stream",
     "text": [
      "Bruno is now sitting\n"
     ]
    }
   ],
   "source": [
    "# priting its behaviour\n",
    "new_dog.sit()"
   ]
  },
  {
   "cell_type": "code",
   "execution_count": 9,
   "metadata": {},
   "outputs": [
    {
     "name": "stdout",
     "output_type": "stream",
     "text": [
      "Bruno rolled over !\n"
     ]
    }
   ],
   "source": [
    "new_dog.roll_over()"
   ]
  },
  {
   "cell_type": "code",
   "execution_count": 10,
   "metadata": {},
   "outputs": [],
   "source": [
    "# Q.1 (restaurant intoduction)\n",
    "# note: cuisine means a style of cooking always followed (simply whats most made there)\n",
    "class Restaurant:\n",
    "    def __init__(self,restaurant_name,cuisine_type):\n",
    "        self.restaurant_name = restaurant_name\n",
    "        self.cuisine_type = cuisine_type\n",
    "    def describe_restaurant(self):\n",
    "        print('Restaurant ' + self.restaurant_name + ' is very good and the cuisine type here is ' + self.cuisine_type)\n",
    "    def open_restaurant(self):\n",
    "        print('The Restaurant ' + self.restaurant_name + ' is open')"
   ]
  },
  {
   "cell_type": "code",
   "execution_count": 11,
   "metadata": {},
   "outputs": [
    {
     "name": "stdout",
     "output_type": "stream",
     "text": [
      "China Town\n",
      "chineese\n"
     ]
    }
   ],
   "source": [
    "# note: when you need to call attributes for output first fill the arguments and then use --> print(instance.attribute)\n",
    "restaurant = Restaurant('China Town','chineese')\n",
    "print(restaurant.restaurant_name) # first attrubute\n",
    "print(restaurant.cuisine_type) # second attribute"
   ]
  },
  {
   "cell_type": "code",
   "execution_count": 12,
   "metadata": {},
   "outputs": [
    {
     "name": "stdout",
     "output_type": "stream",
     "text": [
      "Restaurant China Town is very good and the cuisine type here is chineese\n"
     ]
    }
   ],
   "source": [
    "restaurant.describe_restaurant()"
   ]
  },
  {
   "cell_type": "code",
   "execution_count": 13,
   "metadata": {},
   "outputs": [
    {
     "name": "stdout",
     "output_type": "stream",
     "text": [
      "The Restaurant China Town is open\n"
     ]
    }
   ],
   "source": [
    "restaurant.open_restaurant()"
   ]
  },
  {
   "cell_type": "code",
   "execution_count": 14,
   "metadata": {},
   "outputs": [
    {
     "name": "stdout",
     "output_type": "stream",
     "text": [
      "Restaurant China Town is very good and the cuisine type here is chineese\n",
      "The Restaurant China Town is open\n"
     ]
    }
   ],
   "source": [
    "# All output together\n",
    "restaurant.describe_restaurant()\n",
    "restaurant.open_restaurant()"
   ]
  },
  {
   "cell_type": "code",
   "execution_count": 15,
   "metadata": {},
   "outputs": [],
   "source": [
    "# note: you can call the same class multiple times but if you need to chnage its parameter's argument you better....\n",
    "# ....create a new calling variable instead of current one (like here restaurant is being use....\n",
    "# ...to call the current class which Restaurant.)"
   ]
  },
  {
   "cell_type": "code",
   "execution_count": 16,
   "metadata": {},
   "outputs": [
    {
     "name": "stdout",
     "output_type": "stream",
     "text": [
      "Restaurant South Corner is very good and the cuisine type here is South Indian\n",
      "Restaurant Friendly is very good and the cuisine type here is fast food\n",
      "Restaurant Family Table is very good and the cuisine type here is Indian Food\n"
     ]
    }
   ],
   "source": [
    "# the three new instances using describe_restaurant only (lets introduce 3 new restaurant names)\n",
    "# we also need to change the class calling varibale to avoid any data loss.\n",
    "restaurant2 = Restaurant('South Corner','South Indian')\n",
    "restaurant2.describe_restaurant()\n",
    "restaurant3 = Restaurant('Friendly','fast food')\n",
    "restaurant3.describe_restaurant()\n",
    "restaurant4 = Restaurant('Family Table','Indian Food')\n",
    "restaurant4.describe_restaurant()"
   ]
  },
  {
   "cell_type": "code",
   "execution_count": 17,
   "metadata": {},
   "outputs": [],
   "source": [
    "# Q.2 (User details)\n",
    "class User:\n",
    "    def __init__(self,first_name,last_name,location,interest):\n",
    "        self.fullname = first_name + ' ' + last_name\n",
    "        self.location = location\n",
    "        self.interest = interest\n",
    "    def describe(self):                # will provide summary of user\n",
    "        print('Name: ' + self.fullname)\n",
    "        print('Location: ' + self.location)\n",
    "        print('Interest: ' + self.interest)\n",
    "    def greet_user(self):              # will provide greetings to the user\n",
    "        print('\\nWelcome ' + self.fullname + ' :)')"
   ]
  },
  {
   "cell_type": "code",
   "execution_count": 18,
   "metadata": {},
   "outputs": [
    {
     "name": "stdout",
     "output_type": "stream",
     "text": [
      "Name: Nagesh Kellengre Prakash\n",
      "Location: Delhi\n",
      "Interest: Python\n",
      "\n",
      "Welcome Nagesh Kellengre Prakash :)\n"
     ]
    }
   ],
   "source": [
    "details = User('Nagesh','Kellengre Prakash','Delhi','Python')\n",
    "details.describe()\n",
    "details.greet_user()"
   ]
  },
  {
   "cell_type": "code",
   "execution_count": 19,
   "metadata": {},
   "outputs": [
    {
     "name": "stdout",
     "output_type": "stream",
     "text": [
      "Name: Edward kenvey\n",
      "Location: Havana\n",
      "Interest: Python\n",
      "\n",
      "Welcome Edward kenvey :)\n",
      "\n",
      "\n",
      "Name: Conor kenvey\n",
      "Location: Havana\n",
      "Interest: Python\n",
      "\n",
      "Welcome Conor kenvey :)\n"
     ]
    }
   ],
   "source": [
    "# for multiple users\n",
    "# note: you can use same class for defferent insatnces (Instances are those which are use to call classes)\n",
    "details2 = User('Edward','kenvey','Havana','Python')\n",
    "details2.describe()\n",
    "details2.greet_user()\n",
    "print('\\n')\n",
    "\n",
    "details3 = User('Conor','kenvey','Havana','Python')\n",
    "details3.describe()\n",
    "details3.greet_user()"
   ]
  },
  {
   "cell_type": "code",
   "execution_count": 20,
   "metadata": {},
   "outputs": [],
   "source": [
    "# working with Classes and Instances: just printing whole attributes in one print statement.\n",
    "\n",
    "class Car:\n",
    "    def __init__(self,name,model,year):\n",
    "        self.name = name\n",
    "        self.model = model\n",
    "        self.year = year\n",
    "    def description(self):\n",
    "        about = 'My new car is ' + self.name + ', model ' + self.model + ' of year ' + str(self.year)\n",
    "        return about.title() # here 'return' is use with a varibale 'about' so that we can print our details in title manner"
   ]
  },
  {
   "cell_type": "code",
   "execution_count": 21,
   "metadata": {},
   "outputs": [
    {
     "data": {
      "text/plain": [
       "'My New Car Is Audi, Model A4 Of Year 2016'"
      ]
     },
     "execution_count": 21,
     "metadata": {},
     "output_type": "execute_result"
    }
   ],
   "source": [
    "my_car = Car('audi','a4',2016)\n",
    "my_car.description()"
   ]
  },
  {
   "cell_type": "code",
   "execution_count": null,
   "metadata": {},
   "outputs": [],
   "source": [
    "# Setting a Default Value for an Attribute "
   ]
  },
  {
   "cell_type": "code",
   "execution_count": 24,
   "metadata": {},
   "outputs": [],
   "source": [
    "# Note: Odometer is an instrument which is use measure the distance travelled by a vehicle\n",
    "class Car:\n",
    "    def __init__(self,name,model,year):\n",
    "        self.name = name\n",
    "        self.model = model\n",
    "        self.year = year\n",
    "        self.odometer_reading = 0   # a default value\n",
    "    def description(self):\n",
    "        about = 'My new car is ' + self.name + ', model ' + self.model + ' of year ' + str(self.year)\n",
    "        return about.title()\n",
    "    def read_odometer(self):         # definfing a new method\n",
    "        print('Distance travelled by this car is ' + str(self.odometer_reading) + ' miles.')"
   ]
  },
  {
   "cell_type": "code",
   "execution_count": 25,
   "metadata": {},
   "outputs": [
    {
     "name": "stdout",
     "output_type": "stream",
     "text": [
      "My New Car Is Audi, Model A4 Of Year 2016\n",
      "Distance travelled by this car is 0 miles.\n"
     ]
    }
   ],
   "source": [
    "my_car = Car('audi','a4',2016)\n",
    "print(my_car.description())\n",
    "my_car.read_odometer()"
   ]
  },
  {
   "cell_type": "code",
   "execution_count": 26,
   "metadata": {},
   "outputs": [],
   "source": [
    "# Modifying Attribute Values: take an example of miles above, \n",
    "# what if we want to change miles?, first approach to directly change the default value from '0' to something else.\n",
    "# 2nd approach, introducing a new method (as shown below)\n",
    "class Car:\n",
    "    def __init__(self,name,model,year):\n",
    "        self.name = name\n",
    "        self.model = model\n",
    "        self.year = year\n",
    "        self.odometer_reading = 0   \n",
    "    def description(self):\n",
    "        about = 'My new car is ' + self.name + ', model ' + self.model + ' of year ' + str(self.year)\n",
    "        return about.title()\n",
    "    def read_odometer(self):         \n",
    "        print('Distance travelled by this car is ' + str(self.odometer_reading) + ' miles.')\n",
    "    def new_reading(self,mileage):   # only changes are here (a new method is defined whose value is assigned later)  \n",
    "        self.odometer_reading = mileage"
   ]
  },
  {
   "cell_type": "code",
   "execution_count": 27,
   "metadata": {},
   "outputs": [
    {
     "data": {
      "text/plain": [
       "'My New Car Is Audi, Model A4 Of Year 2016'"
      ]
     },
     "execution_count": 27,
     "metadata": {},
     "output_type": "execute_result"
    }
   ],
   "source": [
    "my_car = Car('audi','a4',2016)\n",
    "my_car.description()"
   ]
  },
  {
   "cell_type": "code",
   "execution_count": 28,
   "metadata": {},
   "outputs": [
    {
     "name": "stdout",
     "output_type": "stream",
     "text": [
      "Distance travelled by this car is 23 miles.\n"
     ]
    }
   ],
   "source": [
    "my_car.new_reading(23) # holding the value\n",
    "my_car.read_odometer() # holding the print statement"
   ]
  },
  {
   "cell_type": "code",
   "execution_count": 29,
   "metadata": {},
   "outputs": [],
   "source": [
    "# Restricting to change the odometer value\n",
    "class Car:\n",
    "    def __init__(self,name,model,year):\n",
    "        self.name = name\n",
    "        self.model = model\n",
    "        self.year = year\n",
    "        self.odometer_reading = 0   \n",
    "    def description(self):\n",
    "        about = 'My new car is ' + self.name + ', model ' + self.model + ' of year ' + str(self.year)\n",
    "        return about.title()\n",
    "    def read_odometer(self):         \n",
    "        print('Distance travelled by this car is ' + str(self.odometer_reading) + ' miles.')\n",
    "    def new_reading(self,mileage):\n",
    "        if mileage >= self.odometer_reading:\n",
    "            self.odometer_reading = mileage\n",
    "        else:\n",
    "            print('you cannot roll back an odometer')"
   ]
  },
  {
   "cell_type": "code",
   "execution_count": 30,
   "metadata": {},
   "outputs": [
    {
     "name": "stdout",
     "output_type": "stream",
     "text": [
      "Distance travelled by this car is 23 miles.\n"
     ]
    }
   ],
   "source": [
    "my_car = Car('audi','a4',2016)\n",
    "my_car.description()\n",
    "# current miles value:\n",
    "my_car.new_reading(23) \n",
    "my_car.read_odometer()"
   ]
  },
  {
   "cell_type": "code",
   "execution_count": 31,
   "metadata": {},
   "outputs": [
    {
     "name": "stdout",
     "output_type": "stream",
     "text": [
      "you cannot roll back an odometer\n",
      "Distance travelled by this car is 23 miles.\n"
     ]
    }
   ],
   "source": [
    "# lowering the miles value\n",
    "my_car.new_reading(0) \n",
    "my_car.read_odometer()"
   ]
  },
  {
   "cell_type": "code",
   "execution_count": 32,
   "metadata": {},
   "outputs": [
    {
     "name": "stdout",
     "output_type": "stream",
     "text": [
      "Distance travelled by this car is 25 miles.\n"
     ]
    }
   ],
   "source": [
    "# increasing the miles value\n",
    "my_car.new_reading(25) \n",
    "my_car.read_odometer()"
   ]
  },
  {
   "cell_type": "code",
   "execution_count": 33,
   "metadata": {},
   "outputs": [],
   "source": [
    "# Incrementing an attribute’s Value through a Method"
   ]
  },
  {
   "cell_type": "code",
   "execution_count": 34,
   "metadata": {},
   "outputs": [],
   "source": [
    "class Car:\n",
    "    def __init__(self,name,model,year):\n",
    "        self.name = name\n",
    "        self.model = model\n",
    "        self.year = year\n",
    "        self.odometer_reading = 0   \n",
    "    def description(self):\n",
    "        about = 'My new car is ' + self.name + ', model ' + self.model + ' of year ' + str(self.year)\n",
    "        return about.title()\n",
    "    def read_odometer(self):         \n",
    "        print('Distance travelled by this car is ' + str(self.odometer_reading) + ' miles.')\n",
    "    def new_reading(self,mileage):     \n",
    "        self.odometer_reading = mileage\n",
    "    def incrementing_odometer(self,miles):\n",
    "        self.odometer_reading += miles"
   ]
  },
  {
   "cell_type": "code",
   "execution_count": 35,
   "metadata": {},
   "outputs": [
    {
     "data": {
      "text/plain": [
       "'My New Car Is Subaru, Model Outback Of Year 2013'"
      ]
     },
     "execution_count": 35,
     "metadata": {},
     "output_type": "execute_result"
    }
   ],
   "source": [
    "my_used_car = Car('subaru','outback',2013)\n",
    "my_used_car.description()"
   ]
  },
  {
   "cell_type": "code",
   "execution_count": 36,
   "metadata": {},
   "outputs": [
    {
     "name": "stdout",
     "output_type": "stream",
     "text": [
      "Distance travelled by this car is 25000 miles.\n"
     ]
    }
   ],
   "source": [
    "my_used_car.new_reading(25000) # value got stored, print is pending\n",
    "my_used_car.read_odometer() # printing the value"
   ]
  },
  {
   "cell_type": "code",
   "execution_count": 37,
   "metadata": {},
   "outputs": [
    {
     "name": "stdout",
     "output_type": "stream",
     "text": [
      "Distance travelled by this car is 25100 miles.\n"
     ]
    }
   ],
   "source": [
    "# incrementing the value, by method 'incrementing_odometer' as mentioned above.\n",
    "my_used_car.incrementing_odometer(100) # value got stored, print satement is pending\n",
    "my_used_car.read_odometer()"
   ]
  },
  {
   "cell_type": "code",
   "execution_count": 40,
   "metadata": {},
   "outputs": [],
   "source": [
    "# Q.3 (updation in class)\n",
    "class Restaurant:\n",
    "    def __init__(self,restaurant_name,cuisine_type):\n",
    "        self.restaurant_name = restaurant_name\n",
    "        self.cuisine_type = cuisine_type\n",
    "        self.number_served = 0  # the number of person served in the restaurant (called an attribute)\n",
    "    def describe_restaurant(self):\n",
    "        print('Restaurant ' + self.restaurant_name + ' is very good and the cuisine type here is ' + self.cuisine_type)\n",
    "    def open_restaurant(self):\n",
    "        print('The Restaurant ' + self.restaurant_name + ' is open')\n",
    "    def served(self):\n",
    "        print('Number of people served are: ' + str(self.number_served))\n",
    "    def upadte_served(self,new):\n",
    "        self.number_served = new\n",
    "    def set_number_served(self,served):\n",
    "        self.number_served = served\n",
    "    def increment_served(self,value):\n",
    "        self.number_served += value"
   ]
  },
  {
   "cell_type": "code",
   "execution_count": 41,
   "metadata": {},
   "outputs": [],
   "source": [
    "# below 'restaurant' is an instance \n",
    "restaurant = Restaurant('pizza palace','pizza')"
   ]
  },
  {
   "cell_type": "code",
   "execution_count": 42,
   "metadata": {},
   "outputs": [
    {
     "name": "stdout",
     "output_type": "stream",
     "text": [
      "Number of people served are: 0\n"
     ]
    }
   ],
   "source": [
    "restaurant.served()"
   ]
  },
  {
   "cell_type": "code",
   "execution_count": 43,
   "metadata": {},
   "outputs": [
    {
     "name": "stdout",
     "output_type": "stream",
     "text": [
      "Number of people served are: 30\n"
     ]
    }
   ],
   "source": [
    "# changing the served value\n",
    "restaurant.upadte_served(30) # holds the value\n",
    "restaurant.served() # holds the print statement"
   ]
  },
  {
   "cell_type": "code",
   "execution_count": 44,
   "metadata": {},
   "outputs": [
    {
     "name": "stdout",
     "output_type": "stream",
     "text": [
      "Number of people served are: 40\n"
     ]
    }
   ],
   "source": [
    "# setting a number of people served (assigning a particular value)\n",
    "restaurant.set_number_served(40)\n",
    "restaurant.served()"
   ]
  },
  {
   "cell_type": "code",
   "execution_count": 45,
   "metadata": {},
   "outputs": [
    {
     "name": "stdout",
     "output_type": "stream",
     "text": [
      "Number of people served are: 50\n"
     ]
    }
   ],
   "source": [
    "# Incrementing\n",
    "restaurant.increment_served(10)\n",
    "restaurant.served()"
   ]
  },
  {
   "cell_type": "code",
   "execution_count": 46,
   "metadata": {},
   "outputs": [],
   "source": [
    "# Q.4 (incremet,reset in class)\n",
    "class User:\n",
    "    def __init__(self,first_name,last_name,location,interest):\n",
    "        self.fullname = first_name + ' ' + last_name\n",
    "        self.location = location\n",
    "        self.interest = interest\n",
    "        self.login_attempts = 0\n",
    "    def describe(self):                # will provide summary of user\n",
    "        print('Name: ' + self.fullname)\n",
    "        print('Location: ' + self.location)\n",
    "        print('Interest: ' + self.interest)\n",
    "    def greet_user(self):              # will provide greetings to the user\n",
    "        print('\\nWelcome ' + self.fullname + ' :)')\n",
    "    def increment_login_attempts(self):\n",
    "        self.login_attempts += 1 \n",
    "    def reset_login_attempts(self):\n",
    "        self.login_attempts = 0"
   ]
  },
  {
   "cell_type": "code",
   "execution_count": 47,
   "metadata": {},
   "outputs": [],
   "source": [
    "profile = User('Nagesh','Kellengre Prakash','Delhi','Python')"
   ]
  },
  {
   "cell_type": "code",
   "execution_count": 48,
   "metadata": {},
   "outputs": [
    {
     "name": "stdout",
     "output_type": "stream",
     "text": [
      "Name: Nagesh Kellengre Prakash\n",
      "Location: Delhi\n",
      "Interest: Python\n",
      "\n",
      "Welcome Nagesh Kellengre Prakash :)\n"
     ]
    }
   ],
   "source": [
    "profile.describe()\n",
    "profile.greet_user()"
   ]
  },
  {
   "cell_type": "code",
   "execution_count": 49,
   "metadata": {},
   "outputs": [
    {
     "name": "stdout",
     "output_type": "stream",
     "text": [
      "Login attempts: 2\n"
     ]
    }
   ],
   "source": [
    "# number of login attempts\n",
    "profile.increment_login_attempts() # calling this method two times\n",
    "profile.increment_login_attempts()\n",
    "print('Login attempts: ' + str(profile.login_attempts))\n",
    "\n",
    "#print(\"  Login attempts: \" + str(profile.login_attempts))"
   ]
  },
  {
   "cell_type": "code",
   "execution_count": 50,
   "metadata": {},
   "outputs": [
    {
     "name": "stdout",
     "output_type": "stream",
     "text": [
      "Login attempts: 0\n"
     ]
    }
   ],
   "source": [
    "# resetting login attempts\n",
    "profile.reset_login_attempts()\n",
    "print('Login attempts: ' + str(profile.login_attempts))"
   ]
  },
  {
   "cell_type": "code",
   "execution_count": null,
   "metadata": {},
   "outputs": [],
   "source": []
  }
 ],
 "metadata": {
  "kernelspec": {
   "display_name": "Python 3",
   "language": "python",
   "name": "python3"
  },
  "language_info": {
   "codemirror_mode": {
    "name": "ipython",
    "version": 3
   },
   "file_extension": ".py",
   "mimetype": "text/x-python",
   "name": "python",
   "nbconvert_exporter": "python",
   "pygments_lexer": "ipython3",
   "version": "3.11.3"
  }
 },
 "nbformat": 4,
 "nbformat_minor": 2
}
