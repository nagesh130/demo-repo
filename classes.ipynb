{
 "cells": [
  {
   "cell_type": "code",
   "execution_count": null,
   "metadata": {},
   "outputs": [],
   "source": [
    "# Classes\n",
    "# Object-oriented programming is one of the most effective approaches to writing software.\n",
    "# In object-oriented programming you write classes that represent real-world things and situations,... \n",
    "# .....and you create objects based on these classes."
   ]
  },
  {
   "cell_type": "code",
   "execution_count": null,
   "metadata": {},
   "outputs": [],
   "source": [
    "# creating a class\n",
    "# keep the first letter of class name in capital only.\n",
    "class Dog:\n",
    "    def __init__(self,name,age):\n",
    "        self.name = name\n",
    "        self.age = age\n",
    "    def sit(self):\n",
    "        print(self.name + ' is now sitting')\n",
    "    def roll_over(self):\n",
    "        print(self.name + ' rolled over !')"
   ]
  },
  {
   "cell_type": "code",
   "execution_count": null,
   "metadata": {},
   "outputs": [],
   "source": [
    "# making an instance for a class\n",
    "my_dog = Dog('shiro',3)"
   ]
  },
  {
   "cell_type": "code",
   "execution_count": null,
   "metadata": {},
   "outputs": [],
   "source": [
    "# Accessing attributes\n",
    "print('my dog name is ' + my_dog.name)\n",
    "print('The age of my dog is ' + str(my_dog.age) + ' years')"
   ]
  },
  {
   "cell_type": "code",
   "execution_count": null,
   "metadata": {},
   "outputs": [],
   "source": [
    "# calling method\n",
    "my_dog.sit()\n",
    "my_dog.roll_over()"
   ]
  },
  {
   "cell_type": "code",
   "execution_count": null,
   "metadata": {},
   "outputs": [],
   "source": [
    "# another example using same class"
   ]
  },
  {
   "cell_type": "code",
   "execution_count": null,
   "metadata": {},
   "outputs": [],
   "source": [
    "# adding this new instance in above class only.\n",
    "new_dog = Dog('Bruno',2)"
   ]
  },
  {
   "cell_type": "code",
   "execution_count": null,
   "metadata": {},
   "outputs": [],
   "source": [
    "# printing its name\n",
    "print('The name of the new dog is ' + new_dog.name)"
   ]
  },
  {
   "cell_type": "code",
   "execution_count": null,
   "metadata": {},
   "outputs": [],
   "source": [
    "# printing its age\n",
    "print(new_dog.name + ' is ' + str(new_dog.age) + ' years old')"
   ]
  },
  {
   "cell_type": "code",
   "execution_count": null,
   "metadata": {},
   "outputs": [],
   "source": [
    "# priting its behaviour\n",
    "new_dog.sit()"
   ]
  },
  {
   "cell_type": "code",
   "execution_count": null,
   "metadata": {},
   "outputs": [],
   "source": [
    "new_dog.roll_over()"
   ]
  },
  {
   "cell_type": "code",
   "execution_count": null,
   "metadata": {},
   "outputs": [],
   "source": [
    "# Q.1 (restaurant intoduction)\n",
    "# note: cuisine means a style of cooking always followed (simply whats most made there)\n",
    "class Restaurant:\n",
    "    def __init__(self,restaurant_name,cuisine_type):\n",
    "        self.restaurant_name = restaurant_name\n",
    "        self.cuisine_type = cuisine_type\n",
    "    def describe_restaurant(self):\n",
    "        print('Restaurant ' + self.restaurant_name + ' is very good and the cuisine type here is ' + self.cuisine_type)\n",
    "    def open_restaurant(self):\n",
    "        print('The Restaurant ' + self.restaurant_name + ' is open')"
   ]
  },
  {
   "cell_type": "code",
   "execution_count": null,
   "metadata": {},
   "outputs": [],
   "source": [
    "# note: when you need to call attributes for output first fill the arguments and then use --> print(instance.attribute)\n",
    "restaurant = Restaurant('China Town','chineese')\n",
    "print(restaurant.restaurant_name) # first attrubute\n",
    "print(restaurant.cuisine_type) # second attribute"
   ]
  },
  {
   "cell_type": "code",
   "execution_count": null,
   "metadata": {},
   "outputs": [],
   "source": [
    "restaurant.describe_restaurant()"
   ]
  },
  {
   "cell_type": "code",
   "execution_count": null,
   "metadata": {},
   "outputs": [],
   "source": [
    "restaurant.open_restaurant()"
   ]
  },
  {
   "cell_type": "code",
   "execution_count": null,
   "metadata": {},
   "outputs": [],
   "source": [
    "# All output together\n",
    "restaurant.describe_restaurant()\n",
    "restaurant.open_restaurant()"
   ]
  },
  {
   "cell_type": "code",
   "execution_count": null,
   "metadata": {},
   "outputs": [],
   "source": [
    "# note: you can call the same class multiple times but if you need to chnage its parameter's argument you better....\n",
    "# ....create a new calling variable instead of current one (like here restaurant is being use....\n",
    "# ...to call the current class which Restaurant.)"
   ]
  },
  {
   "cell_type": "code",
   "execution_count": null,
   "metadata": {},
   "outputs": [],
   "source": [
    "# the three new instances using describe_restaurant only (lets introduce 3 new restaurant names)\n",
    "# we also need to change the class calling varibale to avoid any data loss.\n",
    "restaurant2 = Restaurant('South Corner','South Indian')\n",
    "restaurant2.describe_restaurant()\n",
    "restaurant3 = Restaurant('Friendly','fast food')\n",
    "restaurant3.describe_restaurant()\n",
    "restaurant4 = Restaurant('Family Table','Indian Food')\n",
    "restaurant4.describe_restaurant()"
   ]
  },
  {
   "cell_type": "code",
   "execution_count": null,
   "metadata": {},
   "outputs": [],
   "source": [
    "# Q.2 (User details)\n",
    "class User:\n",
    "    def __init__(self,first_name,last_name,location,interest):\n",
    "        self.fullname = first_name + ' ' + last_name\n",
    "        self.location = location\n",
    "        self.interest = interest\n",
    "    def describe(self):                # will provide summary of user\n",
    "        print('Name: ' + self.fullname)\n",
    "        print('Location: ' + self.location)\n",
    "        print('Interest: ' + self.interest)\n",
    "    def greet_user(self):              # will provide greetings to the user\n",
    "        print('\\nWelcome ' + self.fullname + ' :)')"
   ]
  },
  {
   "cell_type": "code",
   "execution_count": null,
   "metadata": {},
   "outputs": [],
   "source": [
    "details = User('First Name','Second Name','Delhi','Python')\n",
    "details.describe()\n",
    "details.greet_user()"
   ]
  },
  {
   "cell_type": "code",
   "execution_count": null,
   "metadata": {},
   "outputs": [],
   "source": [
    "# for multiple users\n",
    "# note: you can use same class for defferent insatnces (Instances are those which are use to call classes)\n",
    "details2 = User('Edward','kenvey','Havana','Python')\n",
    "details2.describe()\n",
    "details2.greet_user()\n",
    "print('\\n')\n",
    "\n",
    "details3 = User('Conor','kenvey','Havana','Python')\n",
    "details3.describe()\n",
    "details3.greet_user()"
   ]
  },
  {
   "cell_type": "code",
   "execution_count": null,
   "metadata": {},
   "outputs": [],
   "source": [
    "# working with Classes and Instances: just printing whole attributes in one print statement.\n",
    "\n",
    "class Car:\n",
    "    def __init__(self,name,model,year):\n",
    "        self.name = name\n",
    "        self.model = model\n",
    "        self.year = year\n",
    "    def description(self):\n",
    "        about = 'My new car is ' + self.name + ', model ' + self.model + ' of year ' + str(self.year)\n",
    "        return about.title() # here 'return' is use with a varibale 'about' so that we can print our details in title manner"
   ]
  },
  {
   "cell_type": "code",
   "execution_count": null,
   "metadata": {},
   "outputs": [],
   "source": [
    "my_car = Car('audi','a4',2016)\n",
    "my_car.description()"
   ]
  },
  {
   "cell_type": "code",
   "execution_count": null,
   "metadata": {},
   "outputs": [],
   "source": [
    "# Setting a Default Value for an Attribute "
   ]
  },
  {
   "cell_type": "code",
   "execution_count": null,
   "metadata": {},
   "outputs": [],
   "source": [
    "# Note: Odometer is an instrument which is use measure the distance travelled by a vehicle\n",
    "class Car:\n",
    "    def __init__(self,name,model,year):\n",
    "        self.name = name\n",
    "        self.model = model\n",
    "        self.year = year\n",
    "        self.odometer_reading = 0   # a default value\n",
    "    def description(self):\n",
    "        about = 'My new car is ' + self.name + ', model ' + self.model + ' of year ' + str(self.year)\n",
    "        return about.title()\n",
    "    def read_odometer(self):         # definfing a new method\n",
    "        print('Distance travelled by this car is ' + str(self.odometer_reading) + ' miles.')"
   ]
  },
  {
   "cell_type": "code",
   "execution_count": null,
   "metadata": {},
   "outputs": [],
   "source": [
    "my_car = Car('audi','a4',2016)\n",
    "print(my_car.description())\n",
    "my_car.read_odometer()"
   ]
  },
  {
   "cell_type": "code",
   "execution_count": null,
   "metadata": {},
   "outputs": [],
   "source": [
    "# Modifying Attribute Values: take an example of miles above, \n",
    "# what if we want to change miles?, first approach to directly change the default value from '0' to something else.\n",
    "# 2nd approach, introducing a new method (as shown below)\n",
    "class Car:\n",
    "    def __init__(self,name,model,year):\n",
    "        self.name = name\n",
    "        self.model = model\n",
    "        self.year = year\n",
    "        self.odometer_reading = 0   \n",
    "    def description(self):\n",
    "        about = 'My new car is ' + self.name + ', model ' + self.model + ' of year ' + str(self.year)\n",
    "        return about.title()\n",
    "    def read_odometer(self):         \n",
    "        print('Distance travelled by this car is ' + str(self.odometer_reading) + ' miles.')\n",
    "    def new_reading(self,mileage):   # only changes are here (a new method is defined whose value is assigned later)  \n",
    "        self.odometer_reading = mileage"
   ]
  },
  {
   "cell_type": "code",
   "execution_count": null,
   "metadata": {},
   "outputs": [],
   "source": [
    "my_car = Car('audi','a4',2016)\n",
    "my_car.description()"
   ]
  },
  {
   "cell_type": "code",
   "execution_count": null,
   "metadata": {},
   "outputs": [],
   "source": [
    "my_car.new_reading(23) # holding the value\n",
    "my_car.read_odometer() # holding the print statement"
   ]
  },
  {
   "cell_type": "code",
   "execution_count": null,
   "metadata": {},
   "outputs": [],
   "source": [
    "# Restricting to change the odometer value\n",
    "class Car:\n",
    "    def __init__(self,name,model,year):\n",
    "        self.name = name\n",
    "        self.model = model\n",
    "        self.year = year\n",
    "        self.odometer_reading = 0   \n",
    "    def description(self):\n",
    "        about = 'My new car is ' + self.name + ', model ' + self.model + ' of year ' + str(self.year)\n",
    "        return about.title()\n",
    "    def read_odometer(self):         \n",
    "        print('Distance travelled by this car is ' + str(self.odometer_reading) + ' miles.')\n",
    "    def new_reading(self,mileage):\n",
    "        if mileage >= self.odometer_reading:\n",
    "            self.odometer_reading = mileage\n",
    "        else:\n",
    "            print('you cannot roll back an odometer')"
   ]
  },
  {
   "cell_type": "code",
   "execution_count": null,
   "metadata": {},
   "outputs": [],
   "source": [
    "my_car = Car('audi','a4',2016)\n",
    "my_car.description()\n",
    "# current miles value:\n",
    "my_car.new_reading(23) \n",
    "my_car.read_odometer()"
   ]
  },
  {
   "cell_type": "code",
   "execution_count": null,
   "metadata": {},
   "outputs": [],
   "source": [
    "# lowering the miles value\n",
    "my_car.new_reading(0) \n",
    "my_car.read_odometer()"
   ]
  },
  {
   "cell_type": "code",
   "execution_count": null,
   "metadata": {},
   "outputs": [],
   "source": [
    "# increasing the miles value\n",
    "my_car.new_reading(25) \n",
    "my_car.read_odometer()"
   ]
  },
  {
   "cell_type": "code",
   "execution_count": null,
   "metadata": {},
   "outputs": [],
   "source": [
    "# Incrementing an attribute’s Value through a Method"
   ]
  },
  {
   "cell_type": "code",
   "execution_count": null,
   "metadata": {},
   "outputs": [],
   "source": [
    "class Car:\n",
    "    def __init__(self,name,model,year):\n",
    "        self.name = name\n",
    "        self.model = model\n",
    "        self.year = year\n",
    "        self.odometer_reading = 0   \n",
    "    def description(self):\n",
    "        about = 'My new car is ' + self.name + ', model ' + self.model + ' of year ' + str(self.year)\n",
    "        return about.title()\n",
    "    def read_odometer(self):         \n",
    "        print('Distance travelled by this car is ' + str(self.odometer_reading) + ' miles.')\n",
    "    def new_reading(self,mileage):     \n",
    "        self.odometer_reading = mileage\n",
    "    def incrementing_odometer(self,miles):\n",
    "        self.odometer_reading += miles"
   ]
  },
  {
   "cell_type": "code",
   "execution_count": null,
   "metadata": {},
   "outputs": [],
   "source": [
    "my_used_car = Car('subaru','outback',2013)\n",
    "my_used_car.description()"
   ]
  },
  {
   "cell_type": "code",
   "execution_count": null,
   "metadata": {},
   "outputs": [],
   "source": [
    "my_used_car.new_reading(25000) # value got stored, print is pending\n",
    "my_used_car.read_odometer() # printing the value"
   ]
  },
  {
   "cell_type": "code",
   "execution_count": null,
   "metadata": {},
   "outputs": [],
   "source": [
    "# incrementing the value, by method 'incrementing_odometer' as mentioned above.\n",
    "my_used_car.incrementing_odometer(100) # value got stored, print satement is pending\n",
    "my_used_car.read_odometer()"
   ]
  },
  {
   "cell_type": "code",
   "execution_count": null,
   "metadata": {},
   "outputs": [],
   "source": [
    "# Q.3 (updation in class)\n",
    "class Restaurant:\n",
    "    def __init__(self,restaurant_name,cuisine_type):\n",
    "        self.restaurant_name = restaurant_name\n",
    "        self.cuisine_type = cuisine_type\n",
    "        self.number_served = 0  # the number of person served in the restaurant (called an attribute)\n",
    "    def describe_restaurant(self):\n",
    "        print('Restaurant ' + self.restaurant_name + ' is very good and the cuisine type here is ' + self.cuisine_type)\n",
    "    def open_restaurant(self):\n",
    "        print('The Restaurant ' + self.restaurant_name + ' is open')\n",
    "    def served(self):\n",
    "        print('Number of people served are: ' + str(self.number_served))\n",
    "    def upadte_served(self,new):\n",
    "        self.number_served = new\n",
    "    def set_number_served(self,served):\n",
    "        self.number_served = served\n",
    "    def increment_served(self,value):\n",
    "        self.number_served += value"
   ]
  },
  {
   "cell_type": "code",
   "execution_count": null,
   "metadata": {},
   "outputs": [],
   "source": [
    "# below 'restaurant' is an instance \n",
    "restaurant = Restaurant('pizza palace','pizza')"
   ]
  },
  {
   "cell_type": "code",
   "execution_count": null,
   "metadata": {},
   "outputs": [],
   "source": [
    "restaurant.served()"
   ]
  },
  {
   "cell_type": "code",
   "execution_count": null,
   "metadata": {},
   "outputs": [],
   "source": [
    "# changing the served value\n",
    "restaurant.upadte_served(30) # holds the value\n",
    "restaurant.served() # holds the print statement"
   ]
  },
  {
   "cell_type": "code",
   "execution_count": null,
   "metadata": {},
   "outputs": [],
   "source": [
    "# setting a number of people served (assigning a particular value)\n",
    "restaurant.set_number_served(40)\n",
    "restaurant.served()"
   ]
  },
  {
   "cell_type": "code",
   "execution_count": null,
   "metadata": {},
   "outputs": [],
   "source": [
    "# Incrementing\n",
    "restaurant.increment_served(10)\n",
    "restaurant.served()"
   ]
  },
  {
   "cell_type": "code",
   "execution_count": null,
   "metadata": {},
   "outputs": [],
   "source": [
    "# Q.4 (incremet,reset in class)\n",
    "class User:\n",
    "    def __init__(self,first_name,last_name,location,interest):\n",
    "        self.fullname = first_name + ' ' + last_name\n",
    "        self.location = location\n",
    "        self.interest = interest\n",
    "        self.login_attempts = 0\n",
    "    def describe(self):                # will provide summary of user\n",
    "        print('Name: ' + self.fullname)\n",
    "        print('Location: ' + self.location)\n",
    "        print('Interest: ' + self.interest)\n",
    "    def greet_user(self):              # will provide greetings to the user\n",
    "        print('\\nWelcome ' + self.fullname + ' :)')\n",
    "    def increment_login_attempts(self):\n",
    "        self.login_attempts += 1 \n",
    "    def reset_login_attempts(self):\n",
    "        self.login_attempts = 0"
   ]
  },
  {
   "cell_type": "code",
   "execution_count": null,
   "metadata": {},
   "outputs": [],
   "source": [
    "profile = User('First Name','Second Name','Delhi','Python')"
   ]
  },
  {
   "cell_type": "code",
   "execution_count": null,
   "metadata": {},
   "outputs": [],
   "source": [
    "profile.describe()\n",
    "profile.greet_user()"
   ]
  },
  {
   "cell_type": "code",
   "execution_count": null,
   "metadata": {},
   "outputs": [],
   "source": [
    "# number of login attempts\n",
    "profile.increment_login_attempts() # calling this method two times\n",
    "profile.increment_login_attempts()\n",
    "print('Login attempts: ' + str(profile.login_attempts))\n",
    "\n",
    "#print(\"  Login attempts: \" + str(profile.login_attempts))"
   ]
  },
  {
   "cell_type": "code",
   "execution_count": null,
   "metadata": {},
   "outputs": [],
   "source": [
    "# resetting login attempts\n",
    "profile.reset_login_attempts()\n",
    "print('Login attempts: ' + str(profile.login_attempts))"
   ]
  }
 ],
 "metadata": {
  "kernelspec": {
   "display_name": "Python 3",
   "language": "python",
   "name": "python3"
  },
  "language_info": {
   "codemirror_mode": {
    "name": "ipython",
    "version": 3
   },
   "file_extension": ".py",
   "mimetype": "text/x-python",
   "name": "python",
   "nbconvert_exporter": "python",
   "pygments_lexer": "ipython3",
   "version": "3.11.3"
  }
 },
 "nbformat": 4,
 "nbformat_minor": 2
}
